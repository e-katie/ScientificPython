{
 "cells": [
  {
   "cell_type": "markdown",
   "metadata": {},
   "source": [
    "# Imports"
   ]
  },
  {
   "cell_type": "code",
   "execution_count": 1,
   "metadata": {},
   "outputs": [],
   "source": [
    "import json"
   ]
  },
  {
   "cell_type": "markdown",
   "metadata": {},
   "source": [
    "# Data"
   ]
  },
  {
   "cell_type": "code",
   "execution_count": 7,
   "metadata": {},
   "outputs": [
    {
     "name": "stdout",
     "output_type": "stream",
     "text": [
      "[{\"name\": \"A\", \"parents\": []}, {\"name\": \"B\", \"parents\": [\"A\", \"C\"]}, {\"name\": \"C\", \"parents\": [\"A\"]}]\n",
      "[{\"name\": \"B\", \"parents\": [\"A\", \"C\"]}, {\"name\": \"C\", \"parents\": [\"A\"]}, {\"name\": \"A\", \"parents\": []}, {\"name\": \"D\", \"parents\":[\"C\", \"F\"]}, {\"name\": \"E\", \"parents\":[\"D\"]}, {\"name\": \"F\", \"parents\":[]}]\n"
     ]
    }
   ],
   "source": [
    "data1 = json.loads(input())\n",
    "data2 = json.loads(input())"
   ]
  },
  {
   "cell_type": "markdown",
   "metadata": {},
   "source": [
    "# Definitions"
   ]
  },
  {
   "cell_type": "code",
   "execution_count": 5,
   "metadata": {},
   "outputs": [],
   "source": [
    "def add_indirect_descendants(parent, descendant, descendants):\n",
    "\t\tfor item in descendants[descendant]:\n",
    "\t\t\tif item not in descendants[parent]:\n",
    "\t\t\t\tdescendants[parent].append(item)\n",
    "\t\t\tadd_indirect_descendants(parent, item, descendants)\n",
    "\n",
    "def count_descendants(data):\n",
    "\n",
    "\tdescendants = {}\n",
    "\n",
    "\tfor item in data:\n",
    "\t\tdescendants[item[\"name\"]] = []\n",
    "\n",
    "\tfor item in data:\t\t\n",
    "\t\tfor parent in item[\"parents\"]:\n",
    "\t\t\tdescendants[parent].append(item[\"name\"])\t\n",
    "\n",
    "\tfor parent in descendants.keys():\n",
    "\t \tadd_indirect_descendants(parent, parent, descendants)\n",
    "\n",
    "\tfor parent in sorted(descendants.keys()):\n",
    "\t\tprint(parent, ':', len(descendants[parent]) + 1)\n"
   ]
  },
  {
   "cell_type": "markdown",
   "metadata": {},
   "source": [
    "# Usage"
   ]
  },
  {
   "cell_type": "code",
   "execution_count": 8,
   "metadata": {},
   "outputs": [
    {
     "name": "stdout",
     "output_type": "stream",
     "text": [
      "A : 3\n",
      "B : 1\n",
      "C : 2\n"
     ]
    }
   ],
   "source": [
    "count_descendants(data1)"
   ]
  },
  {
   "cell_type": "code",
   "execution_count": 9,
   "metadata": {},
   "outputs": [
    {
     "name": "stdout",
     "output_type": "stream",
     "text": [
      "A : 5\n",
      "B : 1\n",
      "C : 4\n",
      "D : 2\n",
      "E : 1\n",
      "F : 3\n"
     ]
    }
   ],
   "source": [
    "count_descendants(data2)"
   ]
  },
  {
   "cell_type": "code",
   "execution_count": null,
   "metadata": {},
   "outputs": [],
   "source": []
  }
 ],
 "metadata": {
  "kernelspec": {
   "display_name": "Python 3",
   "language": "python",
   "name": "python3"
  },
  "language_info": {
   "codemirror_mode": {
    "name": "ipython",
    "version": 3
   },
   "file_extension": ".py",
   "mimetype": "text/x-python",
   "name": "python",
   "nbconvert_exporter": "python",
   "pygments_lexer": "ipython3",
   "version": "3.8.3"
  }
 },
 "nbformat": 4,
 "nbformat_minor": 4
}
