{
 "cells": [
  {
   "cell_type": "code",
   "execution_count": 2,
   "metadata": {},
   "outputs": [],
   "source": [
    "import re"
   ]
  },
  {
   "cell_type": "code",
   "execution_count": 37,
   "metadata": {},
   "outputs": [
    {
     "name": "stdout",
     "output_type": "stream",
     "text": [
      "ATAGATCGATCGAT\n"
     ]
    }
   ],
   "source": [
    "# Task 1: Replace all duplicated letters to one\n",
    "\n",
    "str = \"ATTAGGGGAAATCGGGGAATCCCCCGATTT\"\n",
    "\n",
    "str2 = re.sub(r\"(\\w)\\1+\", r\"\\1\", str)\n",
    "print(str2)\n",
    "\n"
   ]
  },
  {
   "cell_type": "code",
   "execution_count": 21,
   "metadata": {},
   "outputs": [
    {
     "name": "stdout",
     "output_type": "stream",
     "text": [
      "M. musculus\n",
      "A. elegans\n",
      "F. vityazi\n",
      "C. tottoni\n"
     ]
    }
   ],
   "source": [
    "# Task 2\n",
    "\n",
    "strs = [\"Mus musculus\", \"Agalma elegans\", \"Frillagalma vityazi\", \"Cordalgalma tottoni\"]\n",
    "\n",
    "for s in strs:\n",
    "    print(re.sub(r\"^(\\w)\\w*\", r\"\\1.\", s))\n"
   ]
  },
  {
   "cell_type": "code",
   "execution_count": 31,
   "metadata": {},
   "outputs": [
    {
     "name": "stdout",
     "output_type": "stream",
     "text": [
      "M.musculus Y456\n",
      "A.elegans AB34\n",
      "F.vityazi\n",
      "C.tottoni\n"
     ]
    }
   ],
   "source": [
    "# Task 3\n",
    "\n",
    "strs = [\"Mus musculus (Y456)\", \"Agalma elegans (AB34)\", \"Frillagalma vityazi\", \"Cordalgalma tottoni\"]\n",
    "\n",
    "for s in strs:\n",
    "    s = re.sub(r\"^(\\w)\\w*\\s\", r\"\\1.\", s)\n",
    "    s = re.sub(r\"\\((\\w+)\\)$\", r\"\\1\", s)\n",
    "    print(s)\n",
    "    "
   ]
  },
  {
   "cell_type": "code",
   "execution_count": 39,
   "metadata": {},
   "outputs": [
    {
     "name": "stdout",
     "output_type": "stream",
     "text": [
      "Isocitrate lyase (OLV72284.1) contains its active site TAID starting from 6th position\n"
     ]
    }
   ],
   "source": [
    "# Task 4 : Search a pattern of active site of isocitrate lyase enzyme\n",
    "\n",
    "\n",
    "#take any isocitrate lyase enzyme AA from NCBI protein database:\n",
    "\n",
    "id = \"OLV72284.1\"   #>OLV72284.1 isocitrate lyase [Acinetobacter baumannii]\n",
    "\n",
    "seq = \"MTTYQTAIDAVRELKAKFGNTWADISPEDAARMQLQNRFKTGLDIAKYTAAIMRRDMAEYDADSSKYTQS\\\n",
    "LGCWHGFIAQQKMIANKKYFGTTSKRYIYLSGWMVAALRSEFGPLPDQSMHEKTSVPALIEEIYTFLRQA\\\n",
    "DAKELNDLFRALNKAKEAGDSAKVAEITAQIDNFETHVVPIIADIDAGFGNEEATYLLAKKMIEAGACAL\\\n",
    "QIENQVSDAKQCGHQAGKVTVPHEDFIAKIHALRYAFLEMGVEDGVIVARTDSEGADLTQKIPVVKEPGD\\\n",
    "IASKYISYLDTQEIDISEAQEDEILIKRDGKLHRPTRLASGLYQFREGTQIDRVVLDCITSLQNGADLLW\\\n",
    "IETPTPNVQEIAHMVNRVKEVVPNAKLVYNNSPSFNWTLNFRQQAYDRWVAEGKDVSAYDRAKLMSAEYD\\\n",
    "NTELAAEADEKIRTFQADAAREAGVFHHLITLPTYHTAALSTHELAQGYFGDQGMLAYVAGVQRKEIRGG\\\n",
    "IACVKHQAMAGSDIGDDHKEIFAGENALKAGDDAKNTMNQFSAH\"\n",
    "\n",
    "\n",
    "#consensus pattern for active site - CK2_PHOSPHO_SITE TaiD\n",
    "\n",
    "pattern = r\"[ST]..[DE]\"\n",
    "\n",
    "result = re.search(pattern, seq)\n",
    "position = result.start() + 1\n",
    "\n",
    "print(f\"Isocitrate lyase {id} contains its active site {result.group()} starting from {position}th position\")\n",
    "\n"
   ]
  },
  {
   "cell_type": "code",
   "execution_count": null,
   "metadata": {},
   "outputs": [],
   "source": []
  }
 ],
 "metadata": {
  "kernelspec": {
   "display_name": "Python 3",
   "language": "python",
   "name": "python3"
  },
  "language_info": {
   "codemirror_mode": {
    "name": "ipython",
    "version": 3
   },
   "file_extension": ".py",
   "mimetype": "text/x-python",
   "name": "python",
   "nbconvert_exporter": "python",
   "pygments_lexer": "ipython3",
   "version": "3.8.3"
  }
 },
 "nbformat": 4,
 "nbformat_minor": 4
}
