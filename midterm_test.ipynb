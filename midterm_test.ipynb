{
 "cells": [
  {
   "cell_type": "markdown",
   "metadata": {},
   "source": [
    "# (1)"
   ]
  },
  {
   "cell_type": "code",
   "execution_count": null,
   "metadata": {},
   "outputs": [],
   "source": [
    "# Answer:\n",
    "\n",
    "# D O N\n",
    "# T P A\n",
    "# N I C"
   ]
  },
  {
   "cell_type": "markdown",
   "metadata": {},
   "source": [
    "# (2)"
   ]
  },
  {
   "cell_type": "code",
   "execution_count": 123,
   "metadata": {},
   "outputs": [],
   "source": [
    "import pandas as pd\n",
    "import seaborn as sns"
   ]
  },
  {
   "cell_type": "code",
   "execution_count": 124,
   "metadata": {},
   "outputs": [
    {
     "data": {
      "text/html": [
       "<div>\n",
       "<style scoped>\n",
       "    .dataframe tbody tr th:only-of-type {\n",
       "        vertical-align: middle;\n",
       "    }\n",
       "\n",
       "    .dataframe tbody tr th {\n",
       "        vertical-align: top;\n",
       "    }\n",
       "\n",
       "    .dataframe thead th {\n",
       "        text-align: right;\n",
       "    }\n",
       "</style>\n",
       "<table border=\"1\" class=\"dataframe\">\n",
       "  <thead>\n",
       "    <tr style=\"text-align: right;\">\n",
       "      <th></th>\n",
       "      <th>species</th>\n",
       "      <th>genus</th>\n",
       "      <th>group</th>\n",
       "      <th>sucrose</th>\n",
       "      <th>alanin</th>\n",
       "      <th>citrate</th>\n",
       "      <th>glucose</th>\n",
       "      <th>oleic_acid</th>\n",
       "    </tr>\n",
       "  </thead>\n",
       "  <tbody>\n",
       "    <tr>\n",
       "      <th>0</th>\n",
       "      <td>Fucus_vesiculosus</td>\n",
       "      <td>Fucus</td>\n",
       "      <td>brown</td>\n",
       "      <td>3.001472</td>\n",
       "      <td>3.711498</td>\n",
       "      <td>5.004262</td>\n",
       "      <td>2.548459</td>\n",
       "      <td>6.405165</td>\n",
       "    </tr>\n",
       "    <tr>\n",
       "      <th>1</th>\n",
       "      <td>Saccharina_japonica</td>\n",
       "      <td>Saccharina</td>\n",
       "      <td>brown</td>\n",
       "      <td>6.731070</td>\n",
       "      <td>1.255251</td>\n",
       "      <td>5.621499</td>\n",
       "      <td>6.013219</td>\n",
       "      <td>4.156700</td>\n",
       "    </tr>\n",
       "    <tr>\n",
       "      <th>2</th>\n",
       "      <td>Fucus_serratus</td>\n",
       "      <td>Fucus</td>\n",
       "      <td>brown</td>\n",
       "      <td>3.276870</td>\n",
       "      <td>0.346431</td>\n",
       "      <td>1.216767</td>\n",
       "      <td>3.623225</td>\n",
       "      <td>0.304573</td>\n",
       "    </tr>\n",
       "    <tr>\n",
       "      <th>3</th>\n",
       "      <td>Fucus_distichus</td>\n",
       "      <td>Fucus</td>\n",
       "      <td>brown</td>\n",
       "      <td>6.786996</td>\n",
       "      <td>6.641303</td>\n",
       "      <td>6.423606</td>\n",
       "      <td>2.272724</td>\n",
       "      <td>3.393203</td>\n",
       "    </tr>\n",
       "    <tr>\n",
       "      <th>4</th>\n",
       "      <td>Cladophora_fracta</td>\n",
       "      <td>Cladophora</td>\n",
       "      <td>green</td>\n",
       "      <td>3.861470</td>\n",
       "      <td>1.648450</td>\n",
       "      <td>6.940588</td>\n",
       "      <td>2.316955</td>\n",
       "      <td>2.528886</td>\n",
       "    </tr>\n",
       "    <tr>\n",
       "      <th>5</th>\n",
       "      <td>Cladophora_compacta</td>\n",
       "      <td>Cladophora</td>\n",
       "      <td>green</td>\n",
       "      <td>5.712284</td>\n",
       "      <td>3.461692</td>\n",
       "      <td>3.082826</td>\n",
       "      <td>3.343707</td>\n",
       "      <td>1.432514</td>\n",
       "    </tr>\n",
       "    <tr>\n",
       "      <th>6</th>\n",
       "      <td>Cladophora_gracilis</td>\n",
       "      <td>Cladophora</td>\n",
       "      <td>green</td>\n",
       "      <td>2.452623</td>\n",
       "      <td>6.881024</td>\n",
       "      <td>5.841520</td>\n",
       "      <td>2.740165</td>\n",
       "      <td>2.829016</td>\n",
       "    </tr>\n",
       "    <tr>\n",
       "      <th>7</th>\n",
       "      <td>Palmaria_palmata</td>\n",
       "      <td>Palmaria</td>\n",
       "      <td>red</td>\n",
       "      <td>0.704580</td>\n",
       "      <td>3.176440</td>\n",
       "      <td>5.573905</td>\n",
       "      <td>3.242090</td>\n",
       "      <td>2.245538</td>\n",
       "    </tr>\n",
       "    <tr>\n",
       "      <th>8</th>\n",
       "      <td>Saccharina_latissima</td>\n",
       "      <td>Saccharina</td>\n",
       "      <td>brown</td>\n",
       "      <td>1.636122</td>\n",
       "      <td>5.793163</td>\n",
       "      <td>1.071920</td>\n",
       "      <td>3.947968</td>\n",
       "      <td>4.817804</td>\n",
       "    </tr>\n",
       "    <tr>\n",
       "      <th>9</th>\n",
       "      <td>Ascophyllum_nodosum</td>\n",
       "      <td>Ascophyllum</td>\n",
       "      <td>brown</td>\n",
       "      <td>6.825467</td>\n",
       "      <td>0.875429</td>\n",
       "      <td>5.253527</td>\n",
       "      <td>3.414961</td>\n",
       "      <td>2.432526</td>\n",
       "    </tr>\n",
       "  </tbody>\n",
       "</table>\n",
       "</div>"
      ],
      "text/plain": [
       "                species        genus  group   sucrose    alanin   citrate  \\\n",
       "0     Fucus_vesiculosus        Fucus  brown  3.001472  3.711498  5.004262   \n",
       "1   Saccharina_japonica   Saccharina  brown  6.731070  1.255251  5.621499   \n",
       "2        Fucus_serratus        Fucus  brown  3.276870  0.346431  1.216767   \n",
       "3       Fucus_distichus        Fucus  brown  6.786996  6.641303  6.423606   \n",
       "4     Cladophora_fracta   Cladophora  green  3.861470  1.648450  6.940588   \n",
       "5   Cladophora_compacta   Cladophora  green  5.712284  3.461692  3.082826   \n",
       "6   Cladophora_gracilis   Cladophora  green  2.452623  6.881024  5.841520   \n",
       "7      Palmaria_palmata     Palmaria    red  0.704580  3.176440  5.573905   \n",
       "8  Saccharina_latissima   Saccharina  brown  1.636122  5.793163  1.071920   \n",
       "9   Ascophyllum_nodosum  Ascophyllum  brown  6.825467  0.875429  5.253527   \n",
       "\n",
       "    glucose  oleic_acid  \n",
       "0  2.548459    6.405165  \n",
       "1  6.013219    4.156700  \n",
       "2  3.623225    0.304573  \n",
       "3  2.272724    3.393203  \n",
       "4  2.316955    2.528886  \n",
       "5  3.343707    1.432514  \n",
       "6  2.740165    2.829016  \n",
       "7  3.242090    2.245538  \n",
       "8  3.947968    4.817804  \n",
       "9  3.414961    2.432526  "
      ]
     },
     "execution_count": 124,
     "metadata": {},
     "output_type": "execute_result"
    }
   ],
   "source": [
    "data = pd.read_csv(\"data_for_task2.csv\")\n",
    "data"
   ]
  },
  {
   "cell_type": "code",
   "execution_count": 125,
   "metadata": {},
   "outputs": [
    {
     "data": {
      "text/html": [
       "<div>\n",
       "<style scoped>\n",
       "    .dataframe tbody tr th:only-of-type {\n",
       "        vertical-align: middle;\n",
       "    }\n",
       "\n",
       "    .dataframe tbody tr th {\n",
       "        vertical-align: top;\n",
       "    }\n",
       "\n",
       "    .dataframe thead th {\n",
       "        text-align: right;\n",
       "    }\n",
       "</style>\n",
       "<table border=\"1\" class=\"dataframe\">\n",
       "  <thead>\n",
       "    <tr style=\"text-align: right;\">\n",
       "      <th></th>\n",
       "      <th>sucrose</th>\n",
       "      <th>alanin</th>\n",
       "      <th>citrate</th>\n",
       "      <th>glucose</th>\n",
       "      <th>oleic_acid</th>\n",
       "    </tr>\n",
       "    <tr>\n",
       "      <th>genus</th>\n",
       "      <th></th>\n",
       "      <th></th>\n",
       "      <th></th>\n",
       "      <th></th>\n",
       "      <th></th>\n",
       "    </tr>\n",
       "  </thead>\n",
       "  <tbody>\n",
       "    <tr>\n",
       "      <th>Ascophyllum</th>\n",
       "      <td>6.825467</td>\n",
       "      <td>0.875429</td>\n",
       "      <td>5.253527</td>\n",
       "      <td>3.414961</td>\n",
       "      <td>2.432526</td>\n",
       "    </tr>\n",
       "    <tr>\n",
       "      <th>Cladophora</th>\n",
       "      <td>4.008792</td>\n",
       "      <td>3.997055</td>\n",
       "      <td>5.288311</td>\n",
       "      <td>2.800276</td>\n",
       "      <td>2.263472</td>\n",
       "    </tr>\n",
       "    <tr>\n",
       "      <th>Fucus</th>\n",
       "      <td>4.355112</td>\n",
       "      <td>3.566411</td>\n",
       "      <td>4.214878</td>\n",
       "      <td>2.814803</td>\n",
       "      <td>3.367647</td>\n",
       "    </tr>\n",
       "    <tr>\n",
       "      <th>Palmaria</th>\n",
       "      <td>0.704580</td>\n",
       "      <td>3.176440</td>\n",
       "      <td>5.573905</td>\n",
       "      <td>3.242090</td>\n",
       "      <td>2.245538</td>\n",
       "    </tr>\n",
       "    <tr>\n",
       "      <th>Saccharina</th>\n",
       "      <td>4.183596</td>\n",
       "      <td>3.524207</td>\n",
       "      <td>3.346710</td>\n",
       "      <td>4.980594</td>\n",
       "      <td>4.487252</td>\n",
       "    </tr>\n",
       "  </tbody>\n",
       "</table>\n",
       "</div>"
      ],
      "text/plain": [
       "              sucrose    alanin   citrate   glucose  oleic_acid\n",
       "genus                                                          \n",
       "Ascophyllum  6.825467  0.875429  5.253527  3.414961    2.432526\n",
       "Cladophora   4.008792  3.997055  5.288311  2.800276    2.263472\n",
       "Fucus        4.355112  3.566411  4.214878  2.814803    3.367647\n",
       "Palmaria     0.704580  3.176440  5.573905  3.242090    2.245538\n",
       "Saccharina   4.183596  3.524207  3.346710  4.980594    4.487252"
      ]
     },
     "execution_count": 125,
     "metadata": {},
     "output_type": "execute_result"
    }
   ],
   "source": [
    "data_avg = data.groupby(['genus'])\\\n",
    "    .aggregate({'sucrose': 'mean', 'alanin': 'mean', 'citrate': 'mean',\\\n",
    "                'glucose': 'mean', 'oleic_acid': 'mean'})\n",
    "data_avg"
   ]
  },
  {
   "cell_type": "code",
   "execution_count": 126,
   "metadata": {},
   "outputs": [
    {
     "data": {
      "text/html": [
       "<div>\n",
       "<style scoped>\n",
       "    .dataframe tbody tr th:only-of-type {\n",
       "        vertical-align: middle;\n",
       "    }\n",
       "\n",
       "    .dataframe tbody tr th {\n",
       "        vertical-align: top;\n",
       "    }\n",
       "\n",
       "    .dataframe thead th {\n",
       "        text-align: right;\n",
       "    }\n",
       "</style>\n",
       "<table border=\"1\" class=\"dataframe\">\n",
       "  <thead>\n",
       "    <tr style=\"text-align: right;\">\n",
       "      <th></th>\n",
       "      <th>genus</th>\n",
       "      <th>variable</th>\n",
       "      <th>value</th>\n",
       "    </tr>\n",
       "  </thead>\n",
       "  <tbody>\n",
       "    <tr>\n",
       "      <th>0</th>\n",
       "      <td>Ascophyllum</td>\n",
       "      <td>sucrose</td>\n",
       "      <td>6.825467</td>\n",
       "    </tr>\n",
       "    <tr>\n",
       "      <th>1</th>\n",
       "      <td>Cladophora</td>\n",
       "      <td>sucrose</td>\n",
       "      <td>4.008792</td>\n",
       "    </tr>\n",
       "    <tr>\n",
       "      <th>2</th>\n",
       "      <td>Fucus</td>\n",
       "      <td>sucrose</td>\n",
       "      <td>4.355112</td>\n",
       "    </tr>\n",
       "    <tr>\n",
       "      <th>3</th>\n",
       "      <td>Palmaria</td>\n",
       "      <td>sucrose</td>\n",
       "      <td>0.704580</td>\n",
       "    </tr>\n",
       "    <tr>\n",
       "      <th>4</th>\n",
       "      <td>Saccharina</td>\n",
       "      <td>sucrose</td>\n",
       "      <td>4.183596</td>\n",
       "    </tr>\n",
       "    <tr>\n",
       "      <th>5</th>\n",
       "      <td>Ascophyllum</td>\n",
       "      <td>alanin</td>\n",
       "      <td>0.875429</td>\n",
       "    </tr>\n",
       "    <tr>\n",
       "      <th>6</th>\n",
       "      <td>Cladophora</td>\n",
       "      <td>alanin</td>\n",
       "      <td>3.997055</td>\n",
       "    </tr>\n",
       "    <tr>\n",
       "      <th>7</th>\n",
       "      <td>Fucus</td>\n",
       "      <td>alanin</td>\n",
       "      <td>3.566411</td>\n",
       "    </tr>\n",
       "    <tr>\n",
       "      <th>8</th>\n",
       "      <td>Palmaria</td>\n",
       "      <td>alanin</td>\n",
       "      <td>3.176440</td>\n",
       "    </tr>\n",
       "    <tr>\n",
       "      <th>9</th>\n",
       "      <td>Saccharina</td>\n",
       "      <td>alanin</td>\n",
       "      <td>3.524207</td>\n",
       "    </tr>\n",
       "    <tr>\n",
       "      <th>10</th>\n",
       "      <td>Ascophyllum</td>\n",
       "      <td>citrate</td>\n",
       "      <td>5.253527</td>\n",
       "    </tr>\n",
       "    <tr>\n",
       "      <th>11</th>\n",
       "      <td>Cladophora</td>\n",
       "      <td>citrate</td>\n",
       "      <td>5.288311</td>\n",
       "    </tr>\n",
       "    <tr>\n",
       "      <th>12</th>\n",
       "      <td>Fucus</td>\n",
       "      <td>citrate</td>\n",
       "      <td>4.214878</td>\n",
       "    </tr>\n",
       "    <tr>\n",
       "      <th>13</th>\n",
       "      <td>Palmaria</td>\n",
       "      <td>citrate</td>\n",
       "      <td>5.573905</td>\n",
       "    </tr>\n",
       "    <tr>\n",
       "      <th>14</th>\n",
       "      <td>Saccharina</td>\n",
       "      <td>citrate</td>\n",
       "      <td>3.346710</td>\n",
       "    </tr>\n",
       "    <tr>\n",
       "      <th>15</th>\n",
       "      <td>Ascophyllum</td>\n",
       "      <td>glucose</td>\n",
       "      <td>3.414961</td>\n",
       "    </tr>\n",
       "    <tr>\n",
       "      <th>16</th>\n",
       "      <td>Cladophora</td>\n",
       "      <td>glucose</td>\n",
       "      <td>2.800276</td>\n",
       "    </tr>\n",
       "    <tr>\n",
       "      <th>17</th>\n",
       "      <td>Fucus</td>\n",
       "      <td>glucose</td>\n",
       "      <td>2.814803</td>\n",
       "    </tr>\n",
       "    <tr>\n",
       "      <th>18</th>\n",
       "      <td>Palmaria</td>\n",
       "      <td>glucose</td>\n",
       "      <td>3.242090</td>\n",
       "    </tr>\n",
       "    <tr>\n",
       "      <th>19</th>\n",
       "      <td>Saccharina</td>\n",
       "      <td>glucose</td>\n",
       "      <td>4.980594</td>\n",
       "    </tr>\n",
       "    <tr>\n",
       "      <th>20</th>\n",
       "      <td>Ascophyllum</td>\n",
       "      <td>oleic_acid</td>\n",
       "      <td>2.432526</td>\n",
       "    </tr>\n",
       "    <tr>\n",
       "      <th>21</th>\n",
       "      <td>Cladophora</td>\n",
       "      <td>oleic_acid</td>\n",
       "      <td>2.263472</td>\n",
       "    </tr>\n",
       "    <tr>\n",
       "      <th>22</th>\n",
       "      <td>Fucus</td>\n",
       "      <td>oleic_acid</td>\n",
       "      <td>3.367647</td>\n",
       "    </tr>\n",
       "    <tr>\n",
       "      <th>23</th>\n",
       "      <td>Palmaria</td>\n",
       "      <td>oleic_acid</td>\n",
       "      <td>2.245538</td>\n",
       "    </tr>\n",
       "    <tr>\n",
       "      <th>24</th>\n",
       "      <td>Saccharina</td>\n",
       "      <td>oleic_acid</td>\n",
       "      <td>4.487252</td>\n",
       "    </tr>\n",
       "  </tbody>\n",
       "</table>\n",
       "</div>"
      ],
      "text/plain": [
       "          genus    variable     value\n",
       "0   Ascophyllum     sucrose  6.825467\n",
       "1    Cladophora     sucrose  4.008792\n",
       "2         Fucus     sucrose  4.355112\n",
       "3      Palmaria     sucrose  0.704580\n",
       "4    Saccharina     sucrose  4.183596\n",
       "5   Ascophyllum      alanin  0.875429\n",
       "6    Cladophora      alanin  3.997055\n",
       "7         Fucus      alanin  3.566411\n",
       "8      Palmaria      alanin  3.176440\n",
       "9    Saccharina      alanin  3.524207\n",
       "10  Ascophyllum     citrate  5.253527\n",
       "11   Cladophora     citrate  5.288311\n",
       "12        Fucus     citrate  4.214878\n",
       "13     Palmaria     citrate  5.573905\n",
       "14   Saccharina     citrate  3.346710\n",
       "15  Ascophyllum     glucose  3.414961\n",
       "16   Cladophora     glucose  2.800276\n",
       "17        Fucus     glucose  2.814803\n",
       "18     Palmaria     glucose  3.242090\n",
       "19   Saccharina     glucose  4.980594\n",
       "20  Ascophyllum  oleic_acid  2.432526\n",
       "21   Cladophora  oleic_acid  2.263472\n",
       "22        Fucus  oleic_acid  3.367647\n",
       "23     Palmaria  oleic_acid  2.245538\n",
       "24   Saccharina  oleic_acid  4.487252"
      ]
     },
     "execution_count": 126,
     "metadata": {},
     "output_type": "execute_result"
    }
   ],
   "source": [
    "data_avg['genus'] = data_avg.index\n",
    "data_long = pd.melt(frame = data_avg, id_vars = \"genus\")\n",
    "data_long"
   ]
  },
  {
   "cell_type": "code",
   "execution_count": 127,
   "metadata": {},
   "outputs": [
    {
     "data": {
      "text/plain": [
       "<matplotlib.axes._subplots.AxesSubplot at 0x7fb2fea9bc10>"
      ]
     },
     "execution_count": 127,
     "metadata": {},
     "output_type": "execute_result"
    },
    {
     "data": {
      "image/png": "[encoded data removed]",
      "text/plain": [
       "<Figure size 864x792 with 1 Axes>"
      ]
     },
     "metadata": {},
     "output_type": "display_data"
    }
   ],
   "source": [
    "sns.set( rc = {'figure.figsize':(12,11)} )\n",
    "sns.barplot(x = \"genus\",\n",
    "            y = \"value\", \n",
    "            hue = \"variable\", \n",
    "            data = data_long)"
   ]
  },
  {
   "cell_type": "markdown",
   "metadata": {},
   "source": [
    "# (3)"
   ]
  },
  {
   "cell_type": "code",
   "execution_count": 128,
   "metadata": {},
   "outputs": [
    {
     "name": "stdout",
     "output_type": "stream",
     "text": [
      "False\n",
      "False\n",
      "True\n",
      "False\n",
      "False\n",
      "True\n"
     ]
    },
    {
     "ename": "StopIteration",
     "evalue": "",
     "output_type": "error",
     "traceback": [
      "\u001b[0;31m---------------------------------------------------------------------------\u001b[0m",
      "\u001b[0;31mStopIteration\u001b[0m                             Traceback (most recent call last)",
      "\u001b[0;32m<ipython-input-128-3671d689b994>\u001b[0m in \u001b[0;36m<module>\u001b[0;34m\u001b[0m\n\u001b[1;32m      1\u001b[0m \u001b[0mmy_iter\u001b[0m \u001b[0;34m=\u001b[0m \u001b[0mmap\u001b[0m\u001b[0;34m(\u001b[0m\u001b[0;32mlambda\u001b[0m \u001b[0mitem\u001b[0m\u001b[0;34m:\u001b[0m \u001b[0mitem\u001b[0m \u001b[0;34m%\u001b[0m \u001b[0;36m3\u001b[0m \u001b[0;34m==\u001b[0m \u001b[0;36m0\u001b[0m\u001b[0;34m,\u001b[0m \u001b[0;34m[\u001b[0m\u001b[0;36m1\u001b[0m\u001b[0;34m,\u001b[0m\u001b[0;36m2\u001b[0m\u001b[0;34m,\u001b[0m\u001b[0;36m3\u001b[0m\u001b[0;34m,\u001b[0m\u001b[0;36m4\u001b[0m\u001b[0;34m,\u001b[0m\u001b[0;36m5\u001b[0m\u001b[0;34m,\u001b[0m\u001b[0;36m6\u001b[0m\u001b[0;34m]\u001b[0m\u001b[0;34m)\u001b[0m\u001b[0;34m\u001b[0m\u001b[0;34m\u001b[0m\u001b[0m\n\u001b[1;32m      2\u001b[0m \u001b[0;32mwhile\u001b[0m \u001b[0;32mTrue\u001b[0m\u001b[0;34m:\u001b[0m\u001b[0;34m\u001b[0m\u001b[0;34m\u001b[0m\u001b[0m\n\u001b[0;32m----> 3\u001b[0;31m     \u001b[0mprint\u001b[0m\u001b[0;34m(\u001b[0m\u001b[0mnext\u001b[0m\u001b[0;34m(\u001b[0m\u001b[0mmy_iter\u001b[0m\u001b[0;34m)\u001b[0m\u001b[0;34m)\u001b[0m\u001b[0;34m\u001b[0m\u001b[0;34m\u001b[0m\u001b[0m\n\u001b[0m\u001b[1;32m      4\u001b[0m \u001b[0;34m\u001b[0m\u001b[0m\n\u001b[1;32m      5\u001b[0m \u001b[0;31m#observing StopIteration error:\u001b[0m\u001b[0;34m\u001b[0m\u001b[0;34m\u001b[0m\u001b[0;34m\u001b[0m\u001b[0m\n",
      "\u001b[0;31mStopIteration\u001b[0m: "
     ]
    }
   ],
   "source": [
    "my_iter = map(lambda item: item % 3 == 0, [1,2,3,4,5,6])\n",
    "while True: \n",
    "    print(next(my_iter))\n",
    "    \n",
    "#observing StopIteration error:"
   ]
  },
  {
   "cell_type": "code",
   "execution_count": 129,
   "metadata": {},
   "outputs": [
    {
     "name": "stdout",
     "output_type": "stream",
     "text": [
      "False\n",
      "False\n",
      "True\n",
      "False\n",
      "False\n",
      "True\n"
     ]
    }
   ],
   "source": [
    "my_iter = map(lambda item: item % 3 == 0, [1,2,3,4,5,6])\n",
    "\n",
    "#catching StopIteration error:\n",
    "\n",
    "while True:\n",
    "    try: \n",
    "        print(next(my_iter))\n",
    "    except StopIteration:\n",
    "        break"
   ]
  },
  {
   "cell_type": "markdown",
   "metadata": {},
   "source": [
    "Iterators are more preferable than lists in cases when we need to iterate through large objects without loading them to memory all at once (have memory and time limitations).\n",
    "\n",
    "When we use list(map(...)) syntax, we create a new list to store calculation results for each item of an iterable object, while we might not need all these results for all items. With iterator, we could manually control iterations and save results only when we need them.\n"
   ]
  },
  {
   "cell_type": "markdown",
   "metadata": {},
   "source": [
    "# (4)"
   ]
  },
  {
   "cell_type": "code",
   "execution_count": 130,
   "metadata": {},
   "outputs": [],
   "source": [
    "import requests"
   ]
  },
  {
   "cell_type": "code",
   "execution_count": 131,
   "metadata": {},
   "outputs": [
    {
     "name": "stdout",
     "output_type": "stream",
     "text": [
      "MATH:  22 is an even composite number, its proper divisors being 1, 2 and 11.\n",
      "MATH:  43 is a repdigit in base 6 (111).\n",
      "MATH:  264 is the largest known number whose square is undulating.\n",
      "MATH:  1990 is a stella octangula number.\n",
      "HIST:  22 is the year that Drusus Julius Caesar receives the tribunicia potestas (tribunician power).\n",
      "HIST:  43 is the year that Vietnam is designated a province of China.\n",
      "HIST:  264 is the year that Jiang Wei tries to restore the Kingdom of Shu by persuading Zhong Hui to declare a rebellion against Sima Zhao, ruler of Cao Wei.\n",
      "HIST:  1990 is the year that the first constitution of the Republic of Croatia is adopted.\n"
     ]
    }
   ],
   "source": [
    "numbers = (22, 43, 264, 1990)\n",
    "types = (\"math\", \"year\")\n",
    "\n",
    "for t in types:\n",
    "    for n in numbers:\n",
    "        URL = f\"http://numbersapi.com/{n}/{t}\"\n",
    "        result = requests.get(URL)\n",
    "        if result.ok:\n",
    "            if t == \"math\":\n",
    "                print(\"MATH: \", result.text)\n",
    "            else:\n",
    "                print(\"HIST: \", result.text)"
   ]
  },
  {
   "cell_type": "markdown",
   "metadata": {},
   "source": [
    "# (5)"
   ]
  },
  {
   "cell_type": "code",
   "execution_count": 132,
   "metadata": {},
   "outputs": [],
   "source": [
    "from cobra import test"
   ]
  },
  {
   "cell_type": "code",
   "execution_count": 133,
   "metadata": {},
   "outputs": [
    {
     "name": "stdout",
     "output_type": "stream",
     "text": [
      "NADH production in cytosol (normal):  38.53460965051545\n"
     ]
    }
   ],
   "source": [
    "model = test.create_test_model(\"textbook\") \n",
    "nadh_norm = sum(model.metabolites.nadh_c.summary(fva = 0.95).producing_flux['flux'])\n",
    "print('NADH production in cytosol (normal): ', nadh_norm)"
   ]
  },
  {
   "cell_type": "code",
   "execution_count": 134,
   "metadata": {},
   "outputs": [
    {
     "name": "stdout",
     "output_type": "stream",
     "text": [
      "NADH production in cytosol (b3236 knock-out):  40.355449482420006\n"
     ]
    }
   ],
   "source": [
    "getattr(model.genes, \"b3236\").knock_out() \n",
    "model.optimize()\n",
    "nadh_ko = sum( model.metabolites.nadh_c.summary(fva = 0.95).producing_flux['flux'])\n",
    "print('NADH production in cytosol (b3236 knock-out): ', nadh_ko)"
   ]
  },
  {
   "cell_type": "code",
   "execution_count": 135,
   "metadata": {},
   "outputs": [
    {
     "name": "stdout",
     "output_type": "stream",
     "text": [
      "Total NADH production in cytosol has increased by 1.8208398319045571 after b3236 gene knock-out\n"
     ]
    }
   ],
   "source": [
    "# What has changed in NADH production in cytosol?\n",
    "\n",
    "print(\"Total NADH production in cytosol has increased by\", nadh_ko - nadh_norm, \"after b3236 gene knock-out\")"
   ]
  }
 ],
 "metadata": {
  "kernelspec": {
   "display_name": "Python 3",
   "language": "python",
   "name": "python3"
  },
  "language_info": {
   "codemirror_mode": {
    "name": "ipython",
    "version": 3
   },
   "file_extension": ".py",
   "mimetype": "text/x-python",
   "name": "python",
   "nbconvert_exporter": "python",
   "pygments_lexer": "ipython3",
   "version": "3.8.3"
  }
 },
 "nbformat": 4,
 "nbformat_minor": 4
}
