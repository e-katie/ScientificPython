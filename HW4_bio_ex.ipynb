{
 "cells": [
  {
   "cell_type": "markdown",
   "metadata": {},
   "source": [
    "# Task 1"
   ]
  },
  {
   "cell_type": "code",
   "execution_count": 78,
   "metadata": {},
   "outputs": [],
   "source": [
    "def my_own_fasta_parser(inFile):\n",
    "\n",
    "    sequences = {}\n",
    "\n",
    "    with open(inFile) as file:\n",
    "        for line in file.readlines():\n",
    "            line = line.strip() \n",
    "            if line[0] == '>': \n",
    "                seq_id = line[1:] \n",
    "            else:\n",
    "                sequences[seq_id] = line \n",
    "\n",
    "    return sequences\n"
   ]
  },
  {
   "cell_type": "code",
   "execution_count": 79,
   "metadata": {},
   "outputs": [
    {
     "data": {
      "text/plain": [
       "{'seq0': 'FQTWEEFSRAAEKLYLADPMKVRVVLKYRHVDGNLCIKVTDDLVCLVYRTDQAQDVKKIEKF',\n",
       " 'seq1': 'KYRTWEEFTRAAEKLYQADPMKVRVVLKYRHCDGNLCIKVTDDVVCLLYRTDQAQDVKKIEKFHSQLMRLME LKVTDNKECLKFKTDQAQEAKKMEKLNNIFFTLM',\n",
       " 'seq2': 'EEYQTWEEFARAAEKLYLTDPMKVRVVLKYRHCDGNLCMKVTDDAVCLQYKTDQAQDVKKVEKLHGK',\n",
       " 'seq3': 'MYQVWEEFSRAVEKLYLTDPMKVRVVLKYRHCDGNLCIKVTDNSVCLQYKTDQAQDVK',\n",
       " 'seq4': 'EEFSRAVEKLYLTDPMKVRVVLKYRHCDGNLCIKVTDNSVVSYEMRLFGVQKDNFALEHSLL',\n",
       " 'seq5': 'SWEEFAKAAEVLYLEDPMKCRMCTKYRHVDHKLVVKLTDNHTVLKYVTDMAQDVKKIEKLTTLLMR',\n",
       " 'seq6': 'FTNWEEFAKAAERLHSANPEKCRFVTKYNHTKGELVLKLTDDVVCLQYSTNQLQDVKKLEKLSSTLLRSI',\n",
       " 'seq7': 'SWEEFVERSVQLFRGDPNATRYVMKYRHCEGKLVLKVTDDRECLKFKTDQAQDAKKMEKLNNIFF',\n",
       " 'seq8': 'SWDEFVDRSVQLFRADPESTRYVMKYRHCDGKLVLKVTDNKECLKFKTDQAQEAKKMEKLNNIFFTLM',\n",
       " 'seq9': 'KNWEDFEIAAENMYMANPQNCRYTMKYVHSKGHILLKMSDNVKCVQYRAENMPDLKK',\n",
       " 'seq10': 'FDSWDEFVSKSVELFRNHPDTTRYVVKYRHCEGKLVLKVTDNHECLKFKTDQAQDAKKMEK'}"
      ]
     },
     "execution_count": 79,
     "metadata": {},
     "output_type": "execute_result"
    }
   ],
   "source": [
    "my_own_fasta_parser('prot.fasta')"
   ]
  },
  {
   "cell_type": "markdown",
   "metadata": {},
   "source": [
    "# Task 2"
   ]
  },
  {
   "cell_type": "code",
   "execution_count": 80,
   "metadata": {},
   "outputs": [],
   "source": [
    "def my_own_residue_abundance(input_file, residue, threshold = 0.2):\n",
    "    \n",
    "    seq_ids = []\n",
    "    sequences = my_own_fasta_parser(input_file)\n",
    "\n",
    "    for seq_id, sequence in sequences.items():\n",
    "        freq = sequence.count(residue) / len(sequence)\n",
    "        if freq > threshold:\n",
    "            seq_ids.append(seq_id)\n",
    "\n",
    "    return seq_ids"
   ]
  },
  {
   "cell_type": "code",
   "execution_count": 81,
   "metadata": {},
   "outputs": [
    {
     "name": "stdout",
     "output_type": "stream",
     "text": [
      "['seq1', 'seq4', 'seq5', 'seq6']\n",
      "['seq0', 'seq1', 'seq2', 'seq3', 'seq4', 'seq5', 'seq6', 'seq7', 'seq8', 'seq9', 'seq10']\n",
      "['seq1', 'seq2', 'seq3']\n"
     ]
    }
   ],
   "source": [
    "print(my_own_residue_abundance('prot.fasta', 'L', 0.1))\n",
    "print(my_own_residue_abundance('prot.fasta', 'L', 0.05))\n",
    "print(my_own_residue_abundance('prot.fasta', 'Q', 0.05))"
   ]
  },
  {
   "cell_type": "markdown",
   "metadata": {},
   "source": [
    "# Task 3"
   ]
  },
  {
   "cell_type": "code",
   "execution_count": 82,
   "metadata": {},
   "outputs": [],
   "source": [
    "import Bio\n",
    "from Bio.Seq import Seq\n",
    "from Bio import SeqIO, SeqUtils \n",
    "from Bio.SeqUtils.ProtParam import ProteinAnalysis\n",
    "from Bio.SeqRecord import SeqRecord\n"
   ]
  },
  {
   "cell_type": "code",
   "execution_count": 83,
   "metadata": {},
   "outputs": [],
   "source": [
    "\n",
    "def my_own_filtering(input_file, output_file, filt_gc = 45, filt_arom = 0.125):\n",
    "    \n",
    "    sequences = {}\n",
    "    c = 0\n",
    "    \n",
    "    with open(input_file, \"r\") as content:\n",
    "        \n",
    "        for record in SeqIO.parse(content, \"fasta\"):\n",
    "            c += 1\n",
    "            \n",
    "            # calculate GC content using Bio\n",
    "            calc_gc = SeqUtils.GC(record.seq)\n",
    "            \n",
    "            # calculate aromaticity using Bio\n",
    "            protein = record.seq.translate()\n",
    "            calc_arom = ProteinAnalysis(str(protein)).aromaticity()\n",
    "            \n",
    "            # so, now you can filter\n",
    "            if calc_gc >= filt_gc and calc_arom >= filt_arom:\n",
    "                sequences[record.id] = record.seq\n",
    "    \n",
    "    # write a new fasta file with aminoacids\n",
    "    records = []\n",
    "    for seq_id, seq in sequences.items():\n",
    "        records.append(SeqRecord(seq, seq_id))\n",
    "    with open(output_file, 'w+') as f:\n",
    "        SeqIO.write(records, f, 'fasta')\n",
    "\n",
    "    # print the percentage\n",
    "    print(\"%0.1f\" % (100 * len(sequences) / c) + '% of seqs passed the filter')"
   ]
  },
  {
   "cell_type": "code",
   "execution_count": 84,
   "metadata": {},
   "outputs": [
    {
     "name": "stdout",
     "output_type": "stream",
     "text": [
      "14.3% of seqs passed the filter\n"
     ]
    }
   ],
   "source": [
    "\n",
    "my_own_filtering('nucl.fasta', 'out.fasta')\n"
   ]
  },
  {
   "cell_type": "markdown",
   "metadata": {},
   "source": [
    "# Task 4"
   ]
  },
  {
   "cell_type": "code",
   "execution_count": 85,
   "metadata": {},
   "outputs": [],
   "source": [
    "from Bio import pairwise2\n",
    "from Bio.SubsMat import MatrixInfo as matlist"
   ]
  },
  {
   "cell_type": "code",
   "execution_count": 86,
   "metadata": {},
   "outputs": [],
   "source": [
    "def balign(first_seq, second_seq, gap_open = -10, gap_extend = -0.5):\n",
    "\n",
    "    # Load the matrix\n",
    "    matrix = matlist.blosum62\n",
    "\n",
    "    # Generate the alignments\n",
    "    alns = pairwise2.align.globalds(first_seq, second_seq, matrix, gap_open, gap_extend, penalize_end_gaps=(False, False))\n",
    "\n",
    "    # Extract the best alignment (first one in the alns list)\n",
    "    top_aln = alns[0]\n",
    "\n",
    "    # Print the alignment, ...\n",
    "    aln_A, aln_B, score, begin, end = top_aln\n",
    "    print(pairwise2.format_alignment(aln_A, aln_B, score, begin, end))"
   ]
  },
  {
   "cell_type": "code",
   "execution_count": 87,
   "metadata": {},
   "outputs": [
    {
     "name": "stdout",
     "output_type": "stream",
     "text": [
      "AAATGCTACTG-\n",
      "       |..| \n",
      "-------ATCGT\n",
      "  Score=8\n",
      "\n",
      "AAATGCTACTG\n",
      "|||        \n",
      "AAA--------\n",
      "  Score=12\n",
      "\n",
      "AAATGCTACTG\n",
      " ..|       \n",
      "-TTT-------\n",
      "  Score=5\n",
      "\n"
     ]
    }
   ],
   "source": [
    "balign(\"AAATGCTACTG\", \"ATCGT\")\n",
    "balign(\"AAATGCTACTG\", \"AAA\")\n",
    "balign(\"AAATGCTACTG\", \"TTT\")"
   ]
  },
  {
   "cell_type": "markdown",
   "metadata": {},
   "source": [
    "# Task 5"
   ]
  },
  {
   "cell_type": "code",
   "execution_count": 100,
   "metadata": {},
   "outputs": [],
   "source": [
    "\n",
    "def get_peptides(dna_seq):\n",
    "    # translating from both coding DNA and reverse complement DNA, \n",
    "    # while taking stop codons into account\n",
    "    coding_dna = Seq(dna_seq)\n",
    "    compl_dna = coding_dna.reverse_complement()\n",
    "    peptides = []\n",
    "    for i in range(len(coding_dna)):\n",
    "        peptide = str(coding_dna[i:].translate(to_stop = True))\n",
    "        if len(peptide) > 1:\n",
    "            peptides.append(peptide)\n",
    "    for i in range(len(compl_dna)):\n",
    "        peptide = str(compl_dna[i:].translate(to_stop = True))\n",
    "        if len(peptide) > 1:\n",
    "            peptides.append(peptide)\n",
    "    for peptide in sorted(peptides, key = len):\n",
    "        print(peptide)\n",
    "    "
   ]
  },
  {
   "cell_type": "code",
   "execution_count": 101,
   "metadata": {},
   "outputs": [
    {
     "name": "stdout",
     "output_type": "stream",
     "text": [
      "LW\n",
      "YG\n",
      "ME\n",
      "ML\n",
      "LV\n",
      "ST\n",
      "ILW\n",
      "FYG\n",
      "SME\n",
      "RML\n",
      "ALV\n",
      "SST\n",
      "SILW\n",
      "AFYG\n",
      "HSME\n",
      "HRML\n",
      "NALV\n",
      "CSST\n",
      "RAFYG\n",
      "EHSME\n",
      "LHRML\n",
      "ECSST\n",
      "TRAFYG\n",
      "LEHSME\n",
      "IECSST\n",
      "STRAFYG\n",
      "VLEHSME\n",
      "SIECSST\n"
     ]
    }
   ],
   "source": [
    "\n",
    "dna_seq = 'AGTACTAGAGCATTCTATGGAG'\n",
    "get_peptides(dna_seq)\n"
   ]
  },
  {
   "cell_type": "markdown",
   "metadata": {},
   "source": [
    "# Task 6"
   ]
  },
  {
   "cell_type": "code",
   "execution_count": 90,
   "metadata": {},
   "outputs": [],
   "source": [
    "def rev_compl_one_line(seq):\n",
    "    return \"\".join(reversed([{'A': 'T', 'C': 'G', 'G': 'C', 'T': 'A'}[char] for char in seq]))"
   ]
  },
  {
   "cell_type": "code",
   "execution_count": 91,
   "metadata": {},
   "outputs": [
    {
     "name": "stdout",
     "output_type": "stream",
     "text": [
      "TTGCA\n",
      "ACGTAGCTGAAGCT\n"
     ]
    }
   ],
   "source": [
    "print(rev_compl_one_line('TGCAA'))\n",
    "print(rev_compl_one_line('AGCTTCAGCTACGT'))"
   ]
  }
 ],
 "metadata": {
  "kernelspec": {
   "display_name": "Python 3",
   "language": "python",
   "name": "python3"
  },
  "language_info": {
   "codemirror_mode": {
    "name": "ipython",
    "version": 3
   },
   "file_extension": ".py",
   "mimetype": "text/x-python",
   "name": "python",
   "nbconvert_exporter": "python",
   "pygments_lexer": "ipython3",
   "version": "3.8.3"
  }
 },
 "nbformat": 4,
 "nbformat_minor": 2
}
